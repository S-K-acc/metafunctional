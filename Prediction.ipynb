{
 "cells": [
  {
   "cell_type": "code",
   "execution_count": null,
   "id": "9a6e2c09-43f8-4a46-b587-10c70e4a2aee",
   "metadata": {},
   "outputs": [],
   "source": [
    "using BSON, CUDA, Dates, DelimitedFiles, Downloads, Flux, Plots #import libraries\n",
    "\n",
    "include(\"simulation.jl\"); #includes the function 'simulate' used below\n",
    "include(\"neural.jl\"); #includes 'MINIMZE', 'generate_windows', 'generate_phi'\n",
    "include(\"generateVext.jl\");"
   ]
  },
  {
   "cell_type": "code",
   "execution_count": null,
   "id": "b7171798",
   "metadata": {},
   "outputs": [],
   "source": [
    "BSON.@load \"model.bson\" model #import the neural model\n",
    "display(model) #summary of the model paramters"
   ]
  },
  {
   "cell_type": "code",
   "execution_count": null,
   "id": "6f77be17-38a2-43e8-b983-01a9218c5084",
   "metadata": {},
   "outputs": [],
   "source": [
    "#this function returns the c1 profile for a given density profile and pair potential\n",
    "function get_c1_neural(model, ϕ) #to define this function, only the length of the discretized pait potential is of importance\n",
    "    window_bins = length(model.layers[1].weight[1,:])-size(ϕ)[1] # Get the number of input bins from the shape of the first layer\n",
    "    model = model |> gpu\n",
    "    function (ρ, ϕ) #ρ and ϕ need to be discretized\n",
    "        ρ_windows = generate_windows(ρ; window_bins) |> gpu\n",
    "        ϕ_func = generate_phi(ϕ, ρ) |> gpu\n",
    "        input = vcat(ρ_windows, ϕ_func)\n",
    "        model(input) |> cpu |> vec  # Evaluate the model, make sure the result gets back to the CPU, and transpose it to a vector\n",
    "    end\n",
    "end"
   ]
  },
  {
   "cell_type": "code",
   "execution_count": null,
   "id": "4a17cbac",
   "metadata": {},
   "outputs": [],
   "source": [
    "#some possible pair potentials\n",
    "Lj(x, ϵ) = 4*ϵ*((σ/x)^12-(σ/x)^6) # LJ\n",
    "\n",
    "function H(x) #ramp\n",
    "    if 0 <= x < 1\n",
    "        return -0.5*x+1.5\n",
    "    else\n",
    "        return 0\n",
    "    end\n",
    "end\n",
    "\n",
    "function B(x, ϵ) #box\n",
    "    if 0 <= x < 1\n",
    "        return ϵ\n",
    "    else\n",
    "        return 0\n",
    "    end\n",
    "end\n",
    "\n",
    "HR(x) = x < 1 ? Inf : 0 #hard rods"
   ]
  },
  {
   "cell_type": "markdown",
   "id": "049bab5d",
   "metadata": {},
   "source": [
    " The following cell shows the self-consistent calculation of a density profile dependet on the temperature $T$, the chemical potential $\\mu$ (grand canonical ensemble), the external potential $V_{ext}$ and the pair potential $\\phi$. We use periodic boundary conditions in a box of size $L$. The DFT-minimization is carried out by the function `MINIMIZE` which performs a Picard-iteration to solve the Euler-Lagrange equation $\\rho(x) = \\exp (c_1[\\rho,\\beta \\phi] - \\beta (V_{ext} - \\mu))$ where the neural network (model) is used in place of $c_1$. A simulated density profile is provided by the function `simulate`.   "
   ]
  },
  {
   "cell_type": "code",
   "execution_count": null,
   "id": "5fc8611d-9560-40c3-a108-8066a2a0c255",
   "metadata": {},
   "outputs": [],
   "source": [
    "L = 5 #length of the box\n",
    "T = 1.5 #temperature\n",
    "μ = 1.0 #chemical potential\n",
    "\n",
    "sin_parameters, lin_parameters, wall_params = Generateparams(L) #random parameters used to construct the external potential\n",
    "Vext(x) = GenerateV(x, sin_parameters, lin_parameters, wall_params) #generate random external potential\n",
    "\n",
    "xs1, ρ1 = simulate(L, μ, T, Vext, H; equilibration_time=Dates.Second(1), production_time=Dates.Second(2), sweep_transitions=10)\n",
    "#increase equilibration_time and production_time for a less noisy profile\n",
    "xs2, ρ2 = MINIMIZE(L, μ, T, H, Vext, model) #neural prediction\n",
    "plot(xs1, ρ1, label=\"simulation\", xlabel=\"x/σ\", ylabel=\"ρ\")\n",
    "plot!(xs2, ρ2, label=\"neural\")"
   ]
  }
 ],
 "metadata": {
  "kernelspec": {
   "display_name": "Julia 1.8.3",
   "language": "julia",
   "name": "julia-1.8"
  },
  "language_info": {
   "file_extension": ".jl",
   "mimetype": "application/julia",
   "name": "julia",
   "version": "1.8.3"
  }
 },
 "nbformat": 4,
 "nbformat_minor": 5
}
